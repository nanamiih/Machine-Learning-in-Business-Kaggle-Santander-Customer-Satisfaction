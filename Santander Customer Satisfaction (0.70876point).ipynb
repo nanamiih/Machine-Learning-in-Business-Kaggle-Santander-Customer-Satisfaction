{
 "cells": [
  {
   "cell_type": "code",
   "execution_count": 1,
   "id": "1caf2d90",
   "metadata": {
    "_cell_guid": "b1076dfc-b9ad-4769-8c92-a6c4dae69d19",
    "_uuid": "8f2839f25d086af736a60e9eeb907d3b93b6e0e5",
    "execution": {
     "iopub.execute_input": "2024-11-01T22:05:37.516387Z",
     "iopub.status.busy": "2024-11-01T22:05:37.515260Z",
     "iopub.status.idle": "2024-11-01T22:05:38.515625Z",
     "shell.execute_reply": "2024-11-01T22:05:38.514333Z"
    },
    "papermill": {
     "duration": 1.009734,
     "end_time": "2024-11-01T22:05:38.518139",
     "exception": false,
     "start_time": "2024-11-01T22:05:37.508405",
     "status": "completed"
    },
    "tags": []
   },
   "outputs": [
    {
     "name": "stdout",
     "output_type": "stream",
     "text": [
      "/kaggle/input/santander-customer-satisfaction/sample_submission.csv\n",
      "/kaggle/input/santander-customer-satisfaction/train.csv\n",
      "/kaggle/input/santander-customer-satisfaction/test.csv\n"
     ]
    }
   ],
   "source": [
    "# This Python 3 environment comes with many helpful analytics libraries installed\n",
    "# It is defined by the kaggle/python Docker image: https://github.com/kaggle/docker-python\n",
    "# For example, here's several helpful packages to load\n",
    "\n",
    "import numpy as np # linear algebra\n",
    "import pandas as pd # data processing, CSV file I/O (e.g. pd.read_csv)\n",
    "\n",
    "# Input data files are available in the read-only \"../input/\" directory\n",
    "# For example, running this (by clicking run or pressing Shift+Enter) will list all files under the input directory\n",
    "\n",
    "import os\n",
    "for dirname, _, filenames in os.walk('/kaggle/input'):\n",
    "    for filename in filenames:\n",
    "        print(os.path.join(dirname, filename))\n",
    "\n",
    "# You can write up to 20GB to the current directory (/kaggle/working/) that gets preserved as output when you create a version using \"Save & Run All\" \n",
    "# You can also write temporary files to /kaggle/temp/, but they won't be saved outside of the current session"
   ]
  },
  {
   "cell_type": "code",
   "execution_count": 2,
   "id": "808e2750",
   "metadata": {
    "execution": {
     "iopub.execute_input": "2024-11-01T22:05:38.529860Z",
     "iopub.status.busy": "2024-11-01T22:05:38.528677Z",
     "iopub.status.idle": "2024-11-01T22:05:40.409166Z",
     "shell.execute_reply": "2024-11-01T22:05:40.408118Z"
    },
    "papermill": {
     "duration": 1.888722,
     "end_time": "2024-11-01T22:05:40.411747",
     "exception": false,
     "start_time": "2024-11-01T22:05:38.523025",
     "status": "completed"
    },
    "tags": []
   },
   "outputs": [],
   "source": [
    "import pandas as pd\n",
    "from sklearn.model_selection import train_test_split\n",
    "from sklearn.tree import DecisionTreeClassifier\n",
    "from sklearn.metrics import accuracy_score, classification_report"
   ]
  },
  {
   "cell_type": "code",
   "execution_count": 3,
   "id": "5e3f53ad",
   "metadata": {
    "execution": {
     "iopub.execute_input": "2024-11-01T22:05:40.422845Z",
     "iopub.status.busy": "2024-11-01T22:05:40.422265Z",
     "iopub.status.idle": "2024-11-01T22:05:45.653234Z",
     "shell.execute_reply": "2024-11-01T22:05:45.652009Z"
    },
    "papermill": {
     "duration": 5.239142,
     "end_time": "2024-11-01T22:05:45.655525",
     "exception": false,
     "start_time": "2024-11-01T22:05:40.416383",
     "status": "completed"
    },
    "tags": []
   },
   "outputs": [
    {
     "name": "stdout",
     "output_type": "stream",
     "text": [
      "(76020, 371)\n",
      "(75818, 370)\n"
     ]
    }
   ],
   "source": [
    "train = pd.read_csv('../input/santander-customer-satisfaction/train.csv', encoding='latin-1')\n",
    "test = pd.read_csv('../input/santander-customer-satisfaction/test.csv', encoding='latin-1')\n",
    "print(train.shape)\n",
    "print(test.shape)"
   ]
  },
  {
   "cell_type": "code",
   "execution_count": 4,
   "id": "085832ab",
   "metadata": {
    "execution": {
     "iopub.execute_input": "2024-11-01T22:05:45.666817Z",
     "iopub.status.busy": "2024-11-01T22:05:45.666381Z",
     "iopub.status.idle": "2024-11-01T22:05:45.750236Z",
     "shell.execute_reply": "2024-11-01T22:05:45.749173Z"
    },
    "papermill": {
     "duration": 0.092657,
     "end_time": "2024-11-01T22:05:45.752886",
     "exception": false,
     "start_time": "2024-11-01T22:05:45.660229",
     "status": "completed"
    },
    "tags": []
   },
   "outputs": [],
   "source": [
    "# separate features and target variable in the training data\n",
    "X = train.drop(columns=[\"TARGET\"])  # Features\n",
    "y = train[\"TARGET\"]                 # Target variable"
   ]
  },
  {
   "cell_type": "code",
   "execution_count": 5,
   "id": "c6f59a1a",
   "metadata": {
    "execution": {
     "iopub.execute_input": "2024-11-01T22:05:45.763702Z",
     "iopub.status.busy": "2024-11-01T22:05:45.763293Z",
     "iopub.status.idle": "2024-11-01T22:05:45.968574Z",
     "shell.execute_reply": "2024-11-01T22:05:45.967566Z"
    },
    "papermill": {
     "duration": 0.213498,
     "end_time": "2024-11-01T22:05:45.971107",
     "exception": false,
     "start_time": "2024-11-01T22:05:45.757609",
     "status": "completed"
    },
    "tags": []
   },
   "outputs": [],
   "source": [
    "# split training data into training set and validation set\n",
    "X_train, X_val, y_train, y_val = train_test_split(X, y, test_size=0.2, random_state=42)"
   ]
  },
  {
   "cell_type": "code",
   "execution_count": 6,
   "id": "e1e13bf7",
   "metadata": {
    "execution": {
     "iopub.execute_input": "2024-11-01T22:05:45.982098Z",
     "iopub.status.busy": "2024-11-01T22:05:45.981704Z",
     "iopub.status.idle": "2024-11-01T22:05:45.986182Z",
     "shell.execute_reply": "2024-11-01T22:05:45.985246Z"
    },
    "papermill": {
     "duration": 0.012407,
     "end_time": "2024-11-01T22:05:45.988296",
     "exception": false,
     "start_time": "2024-11-01T22:05:45.975889",
     "status": "completed"
    },
    "tags": []
   },
   "outputs": [],
   "source": [
    "#create decision tree classifier\n",
    "model = DecisionTreeClassifier(max_depth=10, random_state=42)"
   ]
  },
  {
   "cell_type": "code",
   "execution_count": 7,
   "id": "665cc699",
   "metadata": {
    "execution": {
     "iopub.execute_input": "2024-11-01T22:05:45.998861Z",
     "iopub.status.busy": "2024-11-01T22:05:45.998444Z",
     "iopub.status.idle": "2024-11-01T22:05:57.088009Z",
     "shell.execute_reply": "2024-11-01T22:05:57.086971Z"
    },
    "papermill": {
     "duration": 11.097572,
     "end_time": "2024-11-01T22:05:57.090411",
     "exception": false,
     "start_time": "2024-11-01T22:05:45.992839",
     "status": "completed"
    },
    "tags": []
   },
   "outputs": [
    {
     "name": "stdout",
     "output_type": "stream",
     "text": [
      "Cross-Validation Scores: [0.95843199 0.9581689  0.95764273 0.95784004 0.95843199]\n",
      "Mean Score: 0.9581031307550646\n"
     ]
    }
   ],
   "source": [
    "from sklearn.model_selection import StratifiedKFold, cross_val_score\n",
    "\n",
    "kf = StratifiedKFold(n_splits=5, shuffle=True, random_state=42)\n",
    "cv_scores = cross_val_score(model, X, y, cv=kf, scoring='accuracy')\n",
    "\n",
    "print(\"Cross-Validation Scores:\", cv_scores)\n",
    "print(\"Mean Score:\", cv_scores.mean())\n"
   ]
  },
  {
   "cell_type": "code",
   "execution_count": 8,
   "id": "babca818",
   "metadata": {
    "execution": {
     "iopub.execute_input": "2024-11-01T22:05:57.102100Z",
     "iopub.status.busy": "2024-11-01T22:05:57.101703Z",
     "iopub.status.idle": "2024-11-01T22:05:59.257036Z",
     "shell.execute_reply": "2024-11-01T22:05:59.255843Z"
    },
    "papermill": {
     "duration": 2.164521,
     "end_time": "2024-11-01T22:05:59.259540",
     "exception": false,
     "start_time": "2024-11-01T22:05:57.095019",
     "status": "completed"
    },
    "tags": []
   },
   "outputs": [],
   "source": [
    "#train model on training set\n",
    "model.fit(X_train, y_train)\n",
    "y_prediction = model.predict(X_val)"
   ]
  },
  {
   "cell_type": "code",
   "execution_count": 9,
   "id": "1d7d6cdb",
   "metadata": {
    "execution": {
     "iopub.execute_input": "2024-11-01T22:05:59.271018Z",
     "iopub.status.busy": "2024-11-01T22:05:59.270619Z",
     "iopub.status.idle": "2024-11-01T22:05:59.275769Z",
     "shell.execute_reply": "2024-11-01T22:05:59.274654Z"
    },
    "papermill": {
     "duration": 0.013594,
     "end_time": "2024-11-01T22:05:59.277948",
     "exception": false,
     "start_time": "2024-11-01T22:05:59.264354",
     "status": "completed"
    },
    "tags": []
   },
   "outputs": [],
   "source": [
    "model = DecisionTreeClassifier(max_depth=10, class_weight='balanced', random_state=42)\n"
   ]
  },
  {
   "cell_type": "code",
   "execution_count": 10,
   "id": "53f6753f",
   "metadata": {
    "execution": {
     "iopub.execute_input": "2024-11-01T22:05:59.289316Z",
     "iopub.status.busy": "2024-11-01T22:05:59.288441Z",
     "iopub.status.idle": "2024-11-01T22:05:59.574735Z",
     "shell.execute_reply": "2024-11-01T22:05:59.573541Z"
    },
    "papermill": {
     "duration": 0.294649,
     "end_time": "2024-11-01T22:05:59.577299",
     "exception": false,
     "start_time": "2024-11-01T22:05:59.282650",
     "status": "completed"
    },
    "tags": []
   },
   "outputs": [],
   "source": [
    "# 去除常值特徵\n",
    "constant_columns = [col for col in X.columns if X[col].nunique() == 1]\n",
    "X = X.drop(columns=constant_columns)\n"
   ]
  },
  {
   "cell_type": "code",
   "execution_count": 11,
   "id": "7f9d8ac7",
   "metadata": {
    "execution": {
     "iopub.execute_input": "2024-11-01T22:05:59.589045Z",
     "iopub.status.busy": "2024-11-01T22:05:59.587974Z",
     "iopub.status.idle": "2024-11-01T22:05:59.592802Z",
     "shell.execute_reply": "2024-11-01T22:05:59.591721Z"
    },
    "papermill": {
     "duration": 0.012772,
     "end_time": "2024-11-01T22:05:59.594906",
     "exception": false,
     "start_time": "2024-11-01T22:05:59.582134",
     "status": "completed"
    },
    "tags": []
   },
   "outputs": [],
   "source": [
    "#make predictions on validation set\n"
   ]
  },
  {
   "cell_type": "code",
   "execution_count": 12,
   "id": "8e134c01",
   "metadata": {
    "execution": {
     "iopub.execute_input": "2024-11-01T22:05:59.605668Z",
     "iopub.status.busy": "2024-11-01T22:05:59.605252Z",
     "iopub.status.idle": "2024-11-01T22:05:59.639301Z",
     "shell.execute_reply": "2024-11-01T22:05:59.638114Z"
    },
    "papermill": {
     "duration": 0.041942,
     "end_time": "2024-11-01T22:05:59.641523",
     "exception": false,
     "start_time": "2024-11-01T22:05:59.599581",
     "status": "completed"
    },
    "tags": []
   },
   "outputs": [
    {
     "name": "stdout",
     "output_type": "stream",
     "text": [
      "Validation Accuracy 0.9579715864246251\n",
      "\n",
      "Classification Report\n",
      "               precision    recall  f1-score   support\n",
      "\n",
      "           0       0.96      1.00      0.98     14597\n",
      "           1       0.10      0.01      0.01       607\n",
      "\n",
      "    accuracy                           0.96     15204\n",
      "   macro avg       0.53      0.50      0.50     15204\n",
      "weighted avg       0.93      0.96      0.94     15204\n",
      "\n"
     ]
    }
   ],
   "source": [
    "#evaluate the models performance\n",
    "accuracy = accuracy_score(y_val, y_prediction)\n",
    "print(\"Validation Accuracy\",accuracy)\n",
    "print(\"\\nClassification Report\\n\", classification_report(y_val, y_prediction) )"
   ]
  },
  {
   "cell_type": "code",
   "execution_count": 13,
   "id": "fb8f1efe",
   "metadata": {
    "execution": {
     "iopub.execute_input": "2024-11-01T22:05:59.652385Z",
     "iopub.status.busy": "2024-11-01T22:05:59.651999Z",
     "iopub.status.idle": "2024-11-01T22:06:01.922519Z",
     "shell.execute_reply": "2024-11-01T22:06:01.921676Z"
    },
    "papermill": {
     "duration": 2.278817,
     "end_time": "2024-11-01T22:06:01.925035",
     "exception": false,
     "start_time": "2024-11-01T22:05:59.646218",
     "status": "completed"
    },
    "tags": []
   },
   "outputs": [],
   "source": [
    "model.fit(X_train, y_train)\n",
    "\n",
    "#predict on the test dataset without target column\n",
    "test_predictions = model.predict(test)"
   ]
  },
  {
   "cell_type": "code",
   "execution_count": 14,
   "id": "7bf5c93e",
   "metadata": {
    "execution": {
     "iopub.execute_input": "2024-11-01T22:06:01.936098Z",
     "iopub.status.busy": "2024-11-01T22:06:01.935720Z",
     "iopub.status.idle": "2024-11-01T22:06:02.003705Z",
     "shell.execute_reply": "2024-11-01T22:06:02.002657Z"
    },
    "papermill": {
     "duration": 0.076401,
     "end_time": "2024-11-01T22:06:02.006259",
     "exception": false,
     "start_time": "2024-11-01T22:06:01.929858",
     "status": "completed"
    },
    "tags": []
   },
   "outputs": [],
   "source": [
    "#save prediction to csv\n",
    "submission = pd.DataFrame({\n",
    "    \"ID\":test[\"ID\"], \"TARGET\":test_predictions\n",
    "})\n",
    "submission.to_csv(\"submission.csv\", index=False)"
   ]
  },
  {
   "cell_type": "code",
   "execution_count": null,
   "id": "08480397",
   "metadata": {
    "papermill": {
     "duration": 0.004339,
     "end_time": "2024-11-01T22:06:02.015423",
     "exception": false,
     "start_time": "2024-11-01T22:06:02.011084",
     "status": "completed"
    },
    "tags": []
   },
   "outputs": [],
   "source": []
  },
  {
   "cell_type": "code",
   "execution_count": null,
   "id": "5289ac2d",
   "metadata": {
    "papermill": {
     "duration": 0.004238,
     "end_time": "2024-11-01T22:06:02.024211",
     "exception": false,
     "start_time": "2024-11-01T22:06:02.019973",
     "status": "completed"
    },
    "tags": []
   },
   "outputs": [],
   "source": []
  },
  {
   "cell_type": "code",
   "execution_count": null,
   "id": "caa0a943",
   "metadata": {
    "papermill": {
     "duration": 0.004299,
     "end_time": "2024-11-01T22:06:02.032978",
     "exception": false,
     "start_time": "2024-11-01T22:06:02.028679",
     "status": "completed"
    },
    "tags": []
   },
   "outputs": [],
   "source": []
  }
 ],
 "metadata": {
  "kaggle": {
   "accelerator": "none",
   "dataSources": [
    {
     "databundleVersionId": 860641,
     "sourceId": 4986,
     "sourceType": "competition"
    }
   ],
   "dockerImageVersionId": 30786,
   "isGpuEnabled": false,
   "isInternetEnabled": true,
   "language": "python",
   "sourceType": "notebook"
  },
  "kernelspec": {
   "display_name": "Python 3",
   "language": "python",
   "name": "python3"
  },
  "language_info": {
   "codemirror_mode": {
    "name": "ipython",
    "version": 3
   },
   "file_extension": ".py",
   "mimetype": "text/x-python",
   "name": "python",
   "nbconvert_exporter": "python",
   "pygments_lexer": "ipython3",
   "version": "3.10.14"
  },
  "papermill": {
   "default_parameters": {},
   "duration": 28.116564,
   "end_time": "2024-11-01T22:06:02.660168",
   "environment_variables": {},
   "exception": null,
   "input_path": "__notebook__.ipynb",
   "output_path": "__notebook__.ipynb",
   "parameters": {},
   "start_time": "2024-11-01T22:05:34.543604",
   "version": "2.6.0"
  }
 },
 "nbformat": 4,
 "nbformat_minor": 5
}
